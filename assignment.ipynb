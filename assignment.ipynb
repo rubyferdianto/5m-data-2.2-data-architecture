{
 "cells": [
  {
   "cell_type": "code",
   "execution_count": null,
   "id": "beeacfa3",
   "metadata": {},
   "outputs": [
    {
     "name": "stdout",
     "output_type": "stream",
     "text": [
      "bar\n"
     ]
    }
   ],
   "source": [
    "import redis\n",
    "r = redis.Redis(\n",
    "    host='redis-18500.c279.us-central1-1.gce.redns.redis-cloud.com',\n",
    "    port=18500,\n",
    "    decode_responses=True,\n",
    "    username=\"username\",\n",
    "    password=\"password\",\n",
    ")\n",
    "\n",
    "success = r.set('foo', 'bar')\n",
    "# True\n",
    "\n",
    "result = r.get('foo')\n",
    "\n",
    "print(result)"
   ]
  },
  {
   "cell_type": "code",
   "execution_count": null,
   "id": "ef20a190",
   "metadata": {},
   "outputs": [
    {
     "data": {
      "text/plain": [
       "0"
      ]
     },
     "execution_count": 2,
     "metadata": {},
     "output_type": "execute_result"
    }
   ],
   "source": [
    "### Question 1\n",
    "r.hset(\n",
    "    'john_doe',\n",
    "    mapping={\n",
    "        \"name\": 'John Doe',\n",
    "        \"age\": 35,\n",
    "        \"email\": \"john@email.com\"\n",
    "    },\n",
    ")"
   ]
  },
  {
   "cell_type": "code",
   "execution_count": 4,
   "id": "e99c8f99",
   "metadata": {},
   "outputs": [
    {
     "data": {
      "text/plain": [
       "{'name': 'John Doe', 'age': '35', 'email': 'john@email.com'}"
      ]
     },
     "execution_count": 4,
     "metadata": {},
     "output_type": "execute_result"
    }
   ],
   "source": [
    "r.hgetall('john_doe')"
   ]
  },
  {
   "cell_type": "code",
   "execution_count": 5,
   "id": "f618a694",
   "metadata": {},
   "outputs": [
    {
     "name": "stdout",
     "output_type": "stream",
     "text": [
      "10 Blobs in gcp-public-data-landsat:\n",
      "\tLC08/01/001/002/LC08_L1GT_001002_20160817_20170322_01_T2/LC08_L1GT_001002_20160817_20170322_01_T2_ANG.txt\t size: 117255 bytes\n",
      "\tLC08/01/001/002/LC08_L1GT_001002_20160817_20170322_01_T2/LC08_L1GT_001002_20160817_20170322_01_T2_B1.TIF\t size: 75085385 bytes\n",
      "\tLC08/01/001/002/LC08_L1GT_001002_20160817_20170322_01_T2/LC08_L1GT_001002_20160817_20170322_01_T2_B10.TIF\t size: 40612836 bytes\n",
      "\tLC08/01/001/002/LC08_L1GT_001002_20160817_20170322_01_T2/LC08_L1GT_001002_20160817_20170322_01_T2_B11.TIF\t size: 39267654 bytes\n",
      "\tLC08/01/001/002/LC08_L1GT_001002_20160817_20170322_01_T2/LC08_L1GT_001002_20160817_20170322_01_T2_B2.TIF\t size: 76259448 bytes\n",
      "\tLC08/01/001/002/LC08_L1GT_001002_20160817_20170322_01_T2/LC08_L1GT_001002_20160817_20170322_01_T2_B3.TIF\t size: 76813565 bytes\n",
      "\tLC08/01/001/002/LC08_L1GT_001002_20160817_20170322_01_T2/LC08_L1GT_001002_20160817_20170322_01_T2_B4.TIF\t size: 78510140 bytes\n",
      "\tLC08/01/001/002/LC08_L1GT_001002_20160817_20170322_01_T2/LC08_L1GT_001002_20160817_20170322_01_T2_B5.TIF\t size: 80344717 bytes\n",
      "\tLC08/01/001/002/LC08_L1GT_001002_20160817_20170322_01_T2/LC08_L1GT_001002_20160817_20170322_01_T2_B6.TIF\t size: 76416634 bytes\n",
      "\tLC08/01/001/002/LC08_L1GT_001002_20160817_20170322_01_T2/LC08_L1GT_001002_20160817_20170322_01_T2_B7.TIF\t size: 73888286 bytes\n"
     ]
    }
   ],
   "source": [
    "### Question 2\n",
    "from google.cloud import storage\n",
    "client = storage.Client()\n",
    "bucket = client.get_bucket(\"gcp-public-data-landsat\")\n",
    "\n",
    "blobs = bucket.list_blobs()\n",
    "print(\"10 Blobs in {}:\".format(bucket.name))\n",
    "for ix, item in enumerate(blobs):\n",
    "    print(\"\\t\" + item.name + \"\\t size: \" + str(item.size) + \" bytes\")\n",
    "    if ix == 9:\n",
    "        break"
   ]
  }
 ],
 "metadata": {
  "kernelspec": {
   "display_name": "bde",
   "language": "python",
   "name": "python3"
  },
  "language_info": {
   "codemirror_mode": {
    "name": "ipython",
    "version": 3
   },
   "file_extension": ".py",
   "mimetype": "text/x-python",
   "name": "python",
   "nbconvert_exporter": "python",
   "pygments_lexer": "ipython3",
   "version": "3.10.13"
  }
 },
 "nbformat": 4,
 "nbformat_minor": 5
}
